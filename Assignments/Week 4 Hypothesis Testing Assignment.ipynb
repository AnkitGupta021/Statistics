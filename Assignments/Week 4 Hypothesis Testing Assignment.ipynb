{
 "cells": [
  {
   "cell_type": "markdown",
   "id": "c6ea6cdc",
   "metadata": {
    "id": "c6ea6cdc"
   },
   "source": [
    "### Hypothesis Testing Assignment"
   ]
  },
  {
   "cell_type": "markdown",
   "id": "bca0329d",
   "metadata": {
    "id": "bca0329d"
   },
   "source": [
    "#### First Test: One sample Z test\n",
    "\n",
    "Library to be used: ***** from statsmodels.stats.weightstats import ztest ****\n",
    "\n",
    "Information about ****ztest***\n",
    "It returns two values: Z calcuated and P value\n",
    "\n",
    "ztest takes: sample information , hypothesized value , and type of alternative test\n",
    "\n",
    "Example:\n",
    "z ,pval = ztest(sample_1, value=156 , alternative = 'two-sided')"
   ]
  },
  {
   "cell_type": "code",
   "execution_count": 1,
   "id": "2ee179b2",
   "metadata": {
    "id": "2ee179b2"
   },
   "outputs": [
    {
     "data": {
      "text/plain": [
       "(-2.177598558933893, 0.0294359369343824)"
      ]
     },
     "execution_count": 1,
     "metadata": {},
     "output_type": "execute_result"
    }
   ],
   "source": [
    "import numpy as np\n",
    "from statsmodels.stats.weightstats import ztest\n",
    "# Use Z test to test the claim if mean of sample_1 is 156 and print the final conclusion\n",
    "sample_1=np.arange(120,180,2)\n",
    "z ,pval = ztest(sample_1, value=156 , alternative = 'two-sided')\n",
    "z, pval\n",
    "\n"
   ]
  },
  {
   "cell_type": "markdown",
   "id": "2d8e6a93",
   "metadata": {
    "id": "2d8e6a93"
   },
   "source": [
    ".\n",
    ".\n",
    ".\n",
    ".\n",
    ".\n",
    "\n",
    "#### Second test: One sample t test\n",
    "\n",
    "Library to be used: ****from scipy.stats import ttest_1samp**\n",
    "\n",
    "Information about **ttest_1samp : It returns two values: t calculated and P value\n",
    "\n",
    "ttest_1samp takes: sample information , hypothesized value and type of alternative\n",
    "\n",
    "Example: t, pval = ttest_1samp(sample2, 30 , alternative = 'two-sided')\n"
   ]
  },
  {
   "cell_type": "code",
   "execution_count": 2,
   "id": "7b194c38",
   "metadata": {
    "id": "7b194c38"
   },
   "outputs": [],
   "source": [
    "#Use t test to test the claim if mean of sample2 is 30 and print the final conclusion\n",
    "#sample2=[20,25,30,31,54,65,67,21,23,45,32,43,32,23,56,30,30,30,30,30,30,30,30,30,30,30,30,30]"
   ]
  },
  {
   "cell_type": "markdown",
   "id": "7c6dc79b",
   "metadata": {
    "id": "7c6dc79b"
   },
   "source": [
    ".\n",
    ".\n",
    ".\n",
    ".\n",
    ".\n",
    "\n",
    "\n",
    "***Third test: One sample proportion test***\n",
    "\n",
    "Library to be used: ****from statsmodels.stats.proportion import proportions_ztest***\n",
    "\n",
    "Information about proportions_ztest: it returns Z calculated and P value\n",
    "\n",
    "it takes: number of defective observations(count), total number of observations (nobs), value of P\n",
    "\n",
    "Example: z ,pval = proportions_ztest(count=defective, nobs=sample_size, value=0.2)"
   ]
  },
  {
   "cell_type": "code",
   "execution_count": 3,
   "id": "d8bb4688",
   "metadata": {
    "id": "d8bb4688"
   },
   "outputs": [
    {
     "data": {
      "text/plain": [
       "(1.2499999999999998, 0.2112995473337106)"
      ]
     },
     "execution_count": 3,
     "metadata": {},
     "output_type": "execute_result"
    }
   ],
   "source": [
    "# Use Z test to test the claim if proportion of sample3 is 0.2 and print the final conclusion\n",
    "from statsmodels.stats.proportion import proportions_ztest\n",
    "sample_size=100\n",
    "defective=25\n",
    "\n",
    "z ,pval = proportions_ztest(count=defective, nobs=sample_size, value=0.2, prop_var =0.2)\n",
    "z, pval\n",
    "#Here count is 25 and nobs is 100 ( if you check manually sample proportion is p^ = 25/100 = 0.25)\n",
    "# value taken by the function is hypothesized population proportion P\n"
   ]
  },
  {
   "cell_type": "code",
   "execution_count": 4,
   "id": "8972bd49",
   "metadata": {},
   "outputs": [
    {
     "data": {
      "text/plain": [
       "1.2499999999999998"
      ]
     },
     "execution_count": 4,
     "metadata": {},
     "output_type": "execute_result"
    }
   ],
   "source": [
    "(.25-.2)/np.sqrt(.2*.8/100)"
   ]
  },
  {
   "cell_type": "markdown",
   "id": "8647aee3",
   "metadata": {
    "id": "8647aee3"
   },
   "source": [
    ".\n",
    ".\n",
    ".\n",
    ".\n",
    ".\n",
    "\n",
    "#### Fourth test: 2 independent samples t test\n",
    "\n",
    "Library to be used: **from scipy.stats import ttest_ind***\n",
    "\n",
    "Information about ttest_ind: it returns t calculated and P value\n",
    "\n",
    "It takes: sample 1, sample 2 , value and alternative\n",
    "\n",
    "Example: ttest,pval = ttest_ind(week1,week2, 0 , alternative = 'two-sided')"
   ]
  },
  {
   "cell_type": "code",
   "execution_count": 5,
   "id": "1c307dd5",
   "metadata": {
    "id": "1c307dd5"
   },
   "outputs": [],
   "source": [
    "#Use two independent samples t test to test the claim that both samples have same mean, so Mean difference value = 0\n",
    "# week1=np.arange(120,180,2)\n",
    "# week2=np.arange(110,170,1)"
   ]
  },
  {
   "cell_type": "markdown",
   "id": "c732999e",
   "metadata": {
    "id": "c732999e"
   },
   "source": [
    "#### Fifth test: Paired t test\n",
    "\n",
    "Library to be used: ****from scipy.stats import ttest_rel***\n",
    "\n",
    "Information about the ttest_rel: it returns the t calculated and P value\n",
    "\n",
    "It takes: before and after values of the pairs\n",
    "\n",
    "Example: ttest,pval = stats.ttest_rel(before, after)\n"
   ]
  },
  {
   "cell_type": "code",
   "execution_count": 6,
   "id": "82ad1bee",
   "metadata": {
    "id": "82ad1bee"
   },
   "outputs": [],
   "source": [
    "# Use paired t test to test the claim that there is no significant difference between two samples\n",
    "# before=[20,25,30,31,54,65,67,21,23,45,32,43,32,23,56,30,30,30,30,30]\n",
    "# after= [25,25,25,31,45,56,76,12,20,45,32,40,32,15,45,30,30,25,28,29]"
   ]
  },
  {
   "cell_type": "markdown",
   "id": "da60be70",
   "metadata": {
    "id": "da60be70"
   },
   "source": [
    "#### Sixth test: One Way Anova\n",
    "Library to be used: ***from scipy.stats import f_oneway***\n",
    "\n",
    "Information about the f_oneway test: it returns the F calculated and P value\n",
    "\n",
    "It takes: all sample values (Sample1., sample2 , sample 3, sample4 , and so on)\n",
    "\n",
    "Example: f_oneway(group1, group2, group3)"
   ]
  },
  {
   "cell_type": "code",
   "execution_count": 7,
   "id": "44ebc5fd",
   "metadata": {
    "id": "44ebc5fd"
   },
   "outputs": [],
   "source": [
    "# Use One Way ANOVA to test the claim that the three groups are significantly different\n",
    "# group1 = [85, 86, 88, 75, 78, 94, 98, 79, 71, 80]\n",
    "# group2 = [91, 92, 93, 85, 87, 84, 82, 88, 95, 96]\n",
    "# group3 = [79, 78, 88, 94, 92, 85, 83, 85, 82, 81]"
   ]
  },
  {
   "cell_type": "markdown",
   "id": "877cd03e",
   "metadata": {
    "id": "877cd03e"
   },
   "source": [
    "#### Seventh test: Chi square test of goodness of fit\n",
    "\n",
    "Library used: ***import scipy.stats.chisquare as chisquare***\n",
    "\n",
    "Information about the Chi Square test: it returns the Chi Square Statistic Value and the P value\n",
    "\n",
    "Example: chisquare(f_obs = observed , f_exp = expected)\n"
   ]
  },
  {
   "cell_type": "code",
   "execution_count": 8,
   "id": "d7e576e3",
   "metadata": {
    "id": "d7e576e3"
   },
   "outputs": [],
   "source": [
    "#  Use Chi Square Test of goodness of fit to test if the oberved data follows the same distribution as expected.\n",
    "# expected = [50, 50, 50, 50, 50]\n",
    "# observed = [50, 60, 40, 47, 53]"
   ]
  },
  {
   "cell_type": "code",
   "execution_count": null,
   "id": "66fbd750",
   "metadata": {
    "id": "66fbd750"
   },
   "outputs": [],
   "source": []
  },
  {
   "cell_type": "code",
   "execution_count": 9,
   "id": "33353a04",
   "metadata": {
    "id": "33353a04"
   },
   "outputs": [],
   "source": [
    "# Submit the assignment in the given drive link: https://drive.google.com/drive/folders/1ZgjFC1nFmbfnjgEskCRrmNOuZwWOcIsK?usp=sharing\n"
   ]
  }
 ],
 "metadata": {
  "colab": {
   "collapsed_sections": [],
   "name": "Week 4 Hypothesis Testing Assignment.ipynb",
   "provenance": []
  },
  "kernelspec": {
   "display_name": "Python 3 (ipykernel)",
   "language": "python",
   "name": "python3"
  },
  "language_info": {
   "codemirror_mode": {
    "name": "ipython",
    "version": 3
   },
   "file_extension": ".py",
   "mimetype": "text/x-python",
   "name": "python",
   "nbconvert_exporter": "python",
   "pygments_lexer": "ipython3",
   "version": "3.9.12"
  }
 },
 "nbformat": 4,
 "nbformat_minor": 5
}
